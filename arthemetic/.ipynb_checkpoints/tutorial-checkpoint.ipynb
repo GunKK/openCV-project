{
 "cells": [
  {
   "cell_type": "markdown",
   "id": "b20bdcd5",
   "metadata": {},
   "source": [
    "# add "
   ]
  },
  {
   "cell_type": "code",
   "execution_count": 1,
   "id": "1ca78020",
   "metadata": {},
   "outputs": [],
   "source": [
    "# add img\n",
    "import numpy as np\n",
    "import cv2"
   ]
  },
  {
   "cell_type": "code",
   "execution_count": null,
   "id": "066aac9c",
   "metadata": {},
   "outputs": [],
   "source": [
    "def display(img):\n",
    "    \n",
    "    \n",
    "img = cv2.imread(\"img/test.jpg\")\n"
   ]
  }
 ],
 "metadata": {
  "kernelspec": {
   "display_name": "Python 3 (ipykernel)",
   "language": "python",
   "name": "python3"
  },
  "language_info": {
   "codemirror_mode": {
    "name": "ipython",
    "version": 3
   },
   "file_extension": ".py",
   "mimetype": "text/x-python",
   "name": "python",
   "nbconvert_exporter": "python",
   "pygments_lexer": "ipython3",
   "version": "3.10.9"
  }
 },
 "nbformat": 4,
 "nbformat_minor": 5
}

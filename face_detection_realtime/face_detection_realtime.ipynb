{
 "cells": [
  {
   "cell_type": "code",
   "execution_count": 2,
   "id": "a03ea2cd",
   "metadata": {},
   "outputs": [],
   "source": [
    "import numpy as np \n",
    "import cv2"
   ]
  },
  {
   "cell_type": "code",
   "execution_count": 8,
   "id": "c7ff6f70",
   "metadata": {},
   "outputs": [],
   "source": [
    "# function\n",
    "def faceDetection(img): \n",
    "    \n",
    "    img = img.copy()\n",
    "    \n",
    "    gray = cv2.cvtColor(img, cv2.COLOR_RGB2GRAY)\n",
    "   \n",
    "    box, detections = model.detectMultiScale2(gray,minNeighbors=5)\n",
    "    \n",
    "    for x,y,w,h in box:\n",
    "\n",
    "        cv2.rectangle(img,(x,y), (x+w, y+h), (0,255,0), 1)\n",
    "    \n",
    "    return img"
   ]
  },
  {
   "cell_type": "code",
   "execution_count": null,
   "id": "8b2256f2",
   "metadata": {},
   "outputs": [],
   "source": []
  },
  {
   "cell_type": "code",
   "execution_count": 9,
   "id": "47fdcbe9",
   "metadata": {},
   "outputs": [],
   "source": [
    "cap = cv2.VideoCapture(0)\n",
    "\n",
    "# load model\n",
    "model = cv2.CascadeClassifier('./model/haarcascade_frontalface_default.xml')\n",
    "\n",
    "while True:\n",
    "    ref, frame = cap.read()\n",
    "    if ref == False:\n",
    "        break\n",
    "    \n",
    "    img_detect = faceDetection(frame)\n",
    "    cv2.imshow('test', img_detect)\n",
    "    \n",
    "    if cv2.waitKey(1) == ord('a'):\n",
    "        break\n",
    "    \n",
    "cap.release()\n",
    "cv2.destroyAllWindows()"
   ]
  }
 ],
 "metadata": {
  "kernelspec": {
   "display_name": "Python 3 (ipykernel)",
   "language": "python",
   "name": "python3"
  },
  "language_info": {
   "codemirror_mode": {
    "name": "ipython",
    "version": 3
   },
   "file_extension": ".py",
   "mimetype": "text/x-python",
   "name": "python",
   "nbconvert_exporter": "python",
   "pygments_lexer": "ipython3",
   "version": "3.10.9"
  }
 },
 "nbformat": 4,
 "nbformat_minor": 5
}

{
 "cells": [
  {
   "cell_type": "code",
   "execution_count": 16,
   "id": "adbf2370",
   "metadata": {},
   "outputs": [],
   "source": [
    "import numpy as np \n",
    "import cv2"
   ]
  },
  {
   "cell_type": "code",
   "execution_count": 22,
   "id": "0b9dc510",
   "metadata": {},
   "outputs": [],
   "source": [
    "def display(title,img):\n",
    "    cv2.imshow(title,img)\n",
    "    cv2.waitKey(0)\n",
    "    cv2.destroyAllWindows()"
   ]
  },
  {
   "cell_type": "code",
   "execution_count": 18,
   "id": "242149ef",
   "metadata": {},
   "outputs": [
    {
     "data": {
      "text/plain": [
       "(388, 970)"
      ]
     },
     "execution_count": 18,
     "metadata": {},
     "output_type": "execute_result"
    }
   ],
   "source": [
    "img = cv2.imread('img/test.jpg')\n",
    "img.shape[:2]"
   ]
  },
  {
   "cell_type": "code",
   "execution_count": 36,
   "id": "894dabbe",
   "metadata": {},
   "outputs": [],
   "source": [
    "mask = np.zeros(img.shape[:2],dtype='uint8')\n",
    "\n",
    "cx,cy = mask.shape[1]//2, mask.shape[0]//2\n",
    "cv2.rectangle(mask,(cx-150,cy-150),(cx+150,cy+150),(255,0,0),-1)\n",
    "img_and_rect = cv2.bitwise_and(img,img,mask=mask)\n",
    "\n",
    "display('img_and',img_and_rect)\n",
    "# display('mask',mask)"
   ]
  },
  {
   "cell_type": "code",
   "execution_count": 34,
   "id": "338d55c0",
   "metadata": {},
   "outputs": [],
   "source": [
    "mask = np.zeros(img.shape[:2],dtype='uint8')\n",
    "\n",
    "cx,cy = mask.shape[1]//2, mask.shape[0]//2\n",
    "cv2.circle(mask,(cx,cy),150,255,-1)\n",
    "img_and_cir = cv2.bitwise_and(img,img,mask=mask)\n",
    "\n",
    "display('img_and',img_and_cir)\n",
    "# display('mask',mask)"
   ]
  }
 ],
 "metadata": {
  "kernelspec": {
   "display_name": "Python 3 (ipykernel)",
   "language": "python",
   "name": "python3"
  },
  "language_info": {
   "codemirror_mode": {
    "name": "ipython",
    "version": 3
   },
   "file_extension": ".py",
   "mimetype": "text/x-python",
   "name": "python",
   "nbconvert_exporter": "python",
   "pygments_lexer": "ipython3",
   "version": "3.10.9"
  }
 },
 "nbformat": 4,
 "nbformat_minor": 5
}

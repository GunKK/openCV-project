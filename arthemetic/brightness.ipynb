{
 "cells": [
  {
   "cell_type": "code",
   "execution_count": 3,
   "id": "0c62762b",
   "metadata": {},
   "outputs": [],
   "source": [
    "import numpy as np\n",
    "import cv2"
   ]
  },
  {
   "cell_type": "code",
   "execution_count": 6,
   "id": "b226bbb7",
   "metadata": {},
   "outputs": [],
   "source": [
    "def nothing(x):\n",
    "    pass\n",
    "img = cv2.imread('img/test.jpg')\n",
    "cv2.namedWindow(\"Brightness Control\")\n",
    "bright = cv2.createTrackbar(\"Brightness\",\"Brightness Control\",75,255,nothing)\n",
    "while True:\n",
    "    bright = cv2.getTrackbarPos(\"Brightness\",\"Brightness Control\") \n",
    "#     print(bright)\n",
    "    bar = bright - 127\n",
    "    \n",
    "    if bar>=0:\n",
    "        value = np.ones_like(img,dtype='uint8')*bar\n",
    "        result = cv2.add(img,value)\n",
    "    else:\n",
    "        bar = -bar\n",
    "        value = np.ones_like(img,dtype='uint8')*bar\n",
    "        result = cv2.subtract(img,value)\n",
    "        \n",
    "    cv2.imshow('Brightness Control',result)\n",
    "    \n",
    "    if cv2.waitKey(1) == 27: # enter esc to exit\n",
    "        break\n",
    "\n",
    "cv2.destroyAllWindows()"
   ]
  },
  {
   "cell_type": "code",
   "execution_count": null,
   "id": "d7fc87ee",
   "metadata": {},
   "outputs": [],
   "source": []
  }
 ],
 "metadata": {
  "kernelspec": {
   "display_name": "Python 3 (ipykernel)",
   "language": "python",
   "name": "python3"
  },
  "language_info": {
   "codemirror_mode": {
    "name": "ipython",
    "version": 3
   },
   "file_extension": ".py",
   "mimetype": "text/x-python",
   "name": "python",
   "nbconvert_exporter": "python",
   "pygments_lexer": "ipython3",
   "version": "3.10.9"
  }
 },
 "nbformat": 4,
 "nbformat_minor": 5
}

{
 "cells": [
  {
   "cell_type": "code",
   "execution_count": 4,
   "id": "cb3d9a94",
   "metadata": {},
   "outputs": [],
   "source": [
    "import cv2\n",
    "import numpy as np"
   ]
  },
  {
   "cell_type": "code",
   "execution_count": 5,
   "id": "989156d8",
   "metadata": {},
   "outputs": [],
   "source": [
    "img = cv2.imread('img/test.jpg')\n",
    "\n",
    "cv2.imshow('test', img)\n",
    "cv2.waitKey(0)\n",
    "cv2.destroyAllWindows()"
   ]
  },
  {
   "cell_type": "code",
   "execution_count": 6,
   "id": "e0487f87",
   "metadata": {},
   "outputs": [],
   "source": [
    "model = cv2.dnn.readNetFromCaffe('model/deploy.prototxt.txt', 'model/res10_300x300_ssd_iter_140000.caffemodel')"
   ]
  },
  {
   "cell_type": "code",
   "execution_count": 7,
   "id": "220906ce",
   "metadata": {},
   "outputs": [],
   "source": [
    "# step 1: blod from img\n",
    "blob = cv2.dnn.blobFromImage(img, 1, (300,300), (104,177,123), swapRB=True)\n",
    "# step 2: set blob as input \n",
    "model.setInput(blob)\n",
    "# test 3: get output \n",
    "detections = model.forward()"
   ]
  },
  {
   "cell_type": "code",
   "execution_count": 8,
   "id": "e791c059",
   "metadata": {},
   "outputs": [
    {
     "data": {
      "text/plain": [
       "(1, 1, 200, 7)"
      ]
     },
     "execution_count": 8,
     "metadata": {},
     "output_type": "execute_result"
    }
   ],
   "source": [
    "detections.shape"
   ]
  },
  {
   "cell_type": "markdown",
   "id": "684e4308",
   "metadata": {},
   "source": [
    "shape"
   ]
  },
  {
   "cell_type": "code",
   "execution_count": 9,
   "id": "5d079eeb",
   "metadata": {},
   "outputs": [
    {
     "data": {
      "image/png": "[encoded data removed]",
      "text/plain": [
       "<Figure size 640x480 with 1 Axes>"
      ]
     },
     "metadata": {},
     "output_type": "display_data"
    }
   ],
   "source": [
    "from matplotlib import pyplot as plt\n",
    "shape = cv2.imread('img/shape.jpg')\n",
    "plt.imshow(shape)\n",
    "plt.show()"
   ]
  },
  {
   "cell_type": "code",
   "execution_count": 12,
   "id": "d3964c60",
   "metadata": {},
   "outputs": [],
   "source": [
    "def face_detect_dnn(img):\n",
    "    \n",
    "    # step 1: blod from img\n",
    "    blob = cv2.dnn.blobFromImage(img, 1, (300,300), (104,177,123), swapRB=True)\n",
    "    # step 2: set blob as input \n",
    "    model.setInput(blob)\n",
    "    # test 3: get output \n",
    "    detections = model.forward()\n",
    "    # step 4: drawing bounding box on top of face detected\n",
    "    img_detect = img.copy()\n",
    "    h,w = img_detect.shape[:2]\n",
    "    # detections.shape\n",
    "\n",
    "    for i in range(0,detections.shape[2]):\n",
    "        confidence = detections[0,0,i,2]\n",
    "\n",
    "        if confidence > 0.5:\n",
    "#             print(confidence)\n",
    "            box = detections[0,0,i,3:7]*np.array([w,h,w,h])\n",
    "            box = box.astype('int')\n",
    "            cv2.rectangle(img_detect,(box[0], box[1]),(box[2], box[3]),(0,255,0),1)\n",
    "\n",
    "            text = 'score: {:.0f}%'.format(confidence*100)\n",
    "            cv2.putText(img_detect,text,(box[0], box[1]),cv2.FONT_HERSHEY_SIMPLEX,1,(255,255,255),2)\n",
    "        \n",
    "        return img_detect\n",
    "\n",
    "    \n",
    "img = cv2.imread('img/test1.jpg')\n",
    "img_detect = face_detect_dnn(img)\n",
    "cv2.imshow('test', img_detect)\n",
    "cv2.waitKey(0)\n",
    "cv2.destroyAllWindows()"
   ]
  },
  {
   "cell_type": "code",
   "execution_count": 13,
   "id": "1415677f",
   "metadata": {},
   "outputs": [
    {
     "name": "stdout",
     "output_type": "stream",
     "text": [
      "0.90031254\n",
      "0.8191726\n",
      "0.7320795\n"
     ]
    }
   ],
   "source": [
    "img = cv2.imread('img/test3.jpg')  \n",
    "# step 1: blod from img\n",
    "blob = cv2.dnn.blobFromImage(img, 1, (300,300), (104,177,123), swapRB=True)\n",
    "# step 2: set blob as input \n",
    "model.setInput(blob)\n",
    "# test 3: get output \n",
    "detections = model.forward()\n",
    "# step 4: drawing bounding box on top of face detected\n",
    "img_detect = img.copy()\n",
    "h,w = img_detect.shape[:2]\n",
    "# detections.shape\n",
    "\n",
    "for i in range(0,detections.shape[2]):\n",
    "    confidence = detections[0,0,i,2]\n",
    "\n",
    "    if confidence > 0.5:\n",
    "        print(confidence)\n",
    "        box = detections[0,0,i,3:7]*np.array([w,h,w,h])\n",
    "        box = box.astype('int')\n",
    "        cv2.rectangle(img_detect,(box[0], box[1]),(box[2], box[3]),(0,255,0),1)\n",
    "\n",
    "        text = 'score: {:.0f}%'.format(confidence*100)\n",
    "        cv2.putText(img_detect,text,(box[0], box[1]),cv2.FONT_HERSHEY_SIMPLEX,1,(255,255,255),2)\n",
    "        \n",
    "\n",
    "cv2.imshow('test', img_detect)\n",
    "cv2.waitKey(0)\n",
    "cv2.destroyAllWindows()"
   ]
  },
  {
   "cell_type": "code",
   "execution_count": 14,
   "id": "106a5af0",
   "metadata": {},
   "outputs": [],
   "source": [
    "cap = cv2.VideoCapture(0)\n",
    "\n",
    "while True:\n",
    "    ret, frame = cap.read()\n",
    "    \n",
    "    if ret == False:\n",
    "        break\n",
    "    \n",
    "    img_dect = face_detect_dnn(frame)\n",
    "    \n",
    "    cv2.imshow('realtime', img_dect)\n",
    "    \n",
    "    if cv2.waitKey(1) == 27: #enter esc to exit\n",
    "        break\n",
    "\n",
    "cap.release()\n",
    "cv2.destroyAllWindows()"
   ]
  }
 ],
 "metadata": {
  "kernelspec": {
   "display_name": "Python 3 (ipykernel)",
   "language": "python",
   "name": "python3"
  },
  "language_info": {
   "codemirror_mode": {
    "name": "ipython",
    "version": 3
   },
   "file_extension": ".py",
   "mimetype": "text/x-python",
   "name": "python",
   "nbconvert_exporter": "python",
   "pygments_lexer": "ipython3",
   "version": "3.10.9"
  }
 },
 "nbformat": 4,
 "nbformat_minor": 5
}

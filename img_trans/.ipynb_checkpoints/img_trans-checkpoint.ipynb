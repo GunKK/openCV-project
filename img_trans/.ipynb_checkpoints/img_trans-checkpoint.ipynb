{
 "cells": [
  {
   "cell_type": "code",
   "execution_count": 1,
   "id": "c55fd6d1",
   "metadata": {},
   "outputs": [],
   "source": [
    "import numpy as np\n",
    "import cv2"
   ]
  },
  {
   "cell_type": "code",
   "execution_count": null,
   "id": "0332c889",
   "metadata": {},
   "outputs": [],
   "source": [
    "img = cv2.imread('img/test.jpg')"
   ]
  },
  {
   "cell_type": "code",
   "execution_count": 2,
   "id": "f7a0082c",
   "metadata": {},
   "outputs": [],
   "source": [
    "def display(winName,img):\n",
    "    cv2.imshow(winName,img)\n",
    "    cv2.waitKey(0)\n",
    "    cv2.destroyAllWindows()"
   ]
  },
  {
   "cell_type": "code",
   "execution_count": null,
   "id": "6d7cb646",
   "metadata": {},
   "outputs": [],
   "source": [
    "display('test',img)"
   ]
  },
  {
   "cell_type": "code",
   "execution_count": 6,
   "id": "79e7fd07",
   "metadata": {},
   "outputs": [
    {
     "data": {
      "text/plain": [
       "array([[  1.,   0., 100.],\n",
       "       [  0.,   1., 150.]], dtype=float32)"
      ]
     },
     "execution_count": 6,
     "metadata": {},
     "output_type": "execute_result"
    }
   ],
   "source": [
    "tx = 100\n",
    "ty = 150\n",
    "\n",
    "# matrix M\n",
    "M = np.float32([[1,0,tx],\n",
    "              [0,1,ty]])\n",
    "M"
   ]
  },
  {
   "cell_type": "code",
   "execution_count": null,
   "id": "6989f4d1",
   "metadata": {},
   "outputs": [],
   "source": [
    "shifter_img = cv2.warpAffine(img,M,(img.shape[0],img.shape[1])"
   ]
  },
  {
   "cell_type": "code",
   "execution_count": null,
   "id": "e0d565fa",
   "metadata": {},
   "outputs": [],
   "source": [
    "display('shifter_img', shift_img)"
   ]
  }
 ],
 "metadata": {
  "kernelspec": {
   "display_name": "Python 3 (ipykernel)",
   "language": "python",
   "name": "python3"
  },
  "language_info": {
   "codemirror_mode": {
    "name": "ipython",
    "version": 3
   },
   "file_extension": ".py",
   "mimetype": "text/x-python",
   "name": "python",
   "nbconvert_exporter": "python",
   "pygments_lexer": "ipython3",
   "version": "3.10.9"
  }
 },
 "nbformat": 4,
 "nbformat_minor": 5
}

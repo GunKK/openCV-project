{
 "cells": [
  {
   "cell_type": "code",
   "execution_count": 23,
   "id": "038b7d72",
   "metadata": {},
   "outputs": [],
   "source": [
    "import numpy as np\n",
    "import cv2"
   ]
  },
  {
   "cell_type": "code",
   "execution_count": 24,
   "id": "298adaad",
   "metadata": {},
   "outputs": [],
   "source": [
    "def display(title,img):\n",
    "    cv2.imshow(title,img)\n",
    "    cv2.waitKey(0)\n",
    "    cv2.destroyAllWindows()"
   ]
  },
  {
   "cell_type": "code",
   "execution_count": 25,
   "id": "2f11ccf4",
   "metadata": {},
   "outputs": [],
   "source": [
    "# create rect\n",
    "rect = np.zeros((300,300),dtype='uint8')\n",
    "cv2.rectangle(rect,(25,25),(275,275),(255,0.0),-1) # Thickness: -1 fill color \n",
    "display('rect',rect)\n",
    "# create circle\n",
    "cir = np.zeros((300,300),dtype='uint8')\n",
    "cv2.circle(cir,(150,150),150,(255,0,0),-1)\n",
    "display('circle',cir)"
   ]
  },
  {
   "cell_type": "markdown",
   "id": "07b66a83",
   "metadata": {},
   "source": [
    "# add"
   ]
  },
  {
   "cell_type": "code",
   "execution_count": null,
   "id": "3393787c",
   "metadata": {},
   "outputs": [],
   "source": [
    "img_and = cv2.bitwise_and(rect,cir)\n",
    "display('and',img_and)"
   ]
  },
  {
   "cell_type": "markdown",
   "id": "2ab07862",
   "metadata": {},
   "source": [
    "# or"
   ]
  },
  {
   "cell_type": "code",
   "execution_count": 28,
   "id": "09579e5e",
   "metadata": {},
   "outputs": [],
   "source": [
    "img_or = cv2.bitwise_or(rect,cir)\n",
    "display('and',img_or)"
   ]
  },
  {
   "cell_type": "markdown",
   "id": "bfaac9b3",
   "metadata": {},
   "source": [
    "# xor"
   ]
  },
  {
   "cell_type": "code",
   "execution_count": 29,
   "id": "ee34ead9",
   "metadata": {},
   "outputs": [],
   "source": [
    "img_xor = cv2.bitwise_xor(rect,cir)\n",
    "display('and',img_xor)"
   ]
  }
 ],
 "metadata": {
  "kernelspec": {
   "display_name": "Python 3 (ipykernel)",
   "language": "python",
   "name": "python3"
  },
  "language_info": {
   "codemirror_mode": {
    "name": "ipython",
    "version": 3
   },
   "file_extension": ".py",
   "mimetype": "text/x-python",
   "name": "python",
   "nbconvert_exporter": "python",
   "pygments_lexer": "ipython3",
   "version": "3.10.9"
  }
 },
 "nbformat": 4,
 "nbformat_minor": 5
}

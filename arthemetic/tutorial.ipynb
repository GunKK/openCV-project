{
 "cells": [
  {
   "cell_type": "code",
   "execution_count": 11,
   "id": "a2f44220",
   "metadata": {},
   "outputs": [],
   "source": [
    "# add img\n",
    "import numpy as np\n",
    "import cv2\n",
    "\n",
    "def display(title,img):\n",
    "    cv2.imshow(title, img)\n",
    "    cv2.waitKey(0)\n",
    "    cv2.destroyAllWindows()"
   ]
  },
  {
   "cell_type": "markdown",
   "id": "990f0af9",
   "metadata": {},
   "source": [
    "# add "
   ]
  },
  {
   "cell_type": "code",
   "execution_count": 10,
   "id": "5fe1bafb",
   "metadata": {},
   "outputs": [
    {
     "name": "stdout",
     "output_type": "stream",
     "text": [
      "mời nhập hệ số100\n"
     ]
    }
   ],
   "source": [
    "img = cv2.imread(\"img/test.jpg\")\n",
    "s = int(input('mời nhập hệ số'))\n",
    "value = np.ones_like(img,dtype=\"uint8\")*s # tạo 1 matrix ảnh có kích thước img \n",
    "img_add = cv2.add(img,value)\n",
    "display('value', img_add)\n",
    "display('origin',img)"
   ]
  },
  {
   "cell_type": "markdown",
   "id": "5c5a95e2",
   "metadata": {},
   "source": [
    "# sub"
   ]
  },
  {
   "cell_type": "code",
   "execution_count": 14,
   "id": "d4f0ac79",
   "metadata": {},
   "outputs": [
    {
     "name": "stdout",
     "output_type": "stream",
     "text": [
      "mời nhập hệ số100\n"
     ]
    }
   ],
   "source": [
    "img = cv2.imread(\"img/test.jpg\")\n",
    "s = int(input('mời nhập hệ số'))\n",
    "value = np.ones_like(img,dtype=\"uint8\")*s # tạo 1 matrix ảnh có kích thước img \n",
    "img_sub = cv2.subtract(img,value)\n",
    "display('value', img_sub)\n",
    "display('origin',img)"
   ]
  },
  {
   "cell_type": "markdown",
   "id": "1b36d4a5",
   "metadata": {},
   "source": [
    "# blending"
   ]
  },
  {
   "cell_type": "code",
   "execution_count": 24,
   "id": "112d0a23",
   "metadata": {},
   "outputs": [],
   "source": [
    "# image addition with different weights\n",
    "# blend_img = a*img1 + b*img2 + y\n",
    "# a,b = [0 to 1]\n",
    "# y pixel value added to image\n",
    "\n",
    "img1 = cv2.imread('img/test2.jpg')\n",
    "img2 = cv2.imread('img/test3.jpg')\n",
    "\n",
    "blend_img = cv2.addWeighted(img1,0.6,img2,0.8,100)\n",
    "display('blend12',blend_img)"
   ]
  },
  {
   "cell_type": "code",
   "execution_count": null,
   "id": "ef9d7f42",
   "metadata": {},
   "outputs": [],
   "source": []
  }
 ],
 "metadata": {
  "kernelspec": {
   "display_name": "Python 3 (ipykernel)",
   "language": "python",
   "name": "python3"
  },
  "language_info": {
   "codemirror_mode": {
    "name": "ipython",
    "version": 3
   },
   "file_extension": ".py",
   "mimetype": "text/x-python",
   "name": "python",
   "nbconvert_exporter": "python",
   "pygments_lexer": "ipython3",
   "version": "3.10.9"
  }
 },
 "nbformat": 4,
 "nbformat_minor": 5
}

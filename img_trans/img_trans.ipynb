{
 "cells": [
  {
   "cell_type": "code",
   "execution_count": 1,
   "id": "c55fd6d1",
   "metadata": {},
   "outputs": [],
   "source": [
    "import numpy as np\n",
    "import cv2"
   ]
  },
  {
   "cell_type": "code",
   "execution_count": 2,
   "id": "0332c889",
   "metadata": {},
   "outputs": [],
   "source": [
    "img = cv2.imread('img/test.jpg')"
   ]
  },
  {
   "cell_type": "code",
   "execution_count": 3,
   "id": "f7a0082c",
   "metadata": {},
   "outputs": [],
   "source": [
    "def display(winName,img):\n",
    "    cv2.imshow(winName,img)\n",
    "    cv2.waitKey(0)\n",
    "    cv2.destroyAllWindows()"
   ]
  },
  {
   "cell_type": "code",
   "execution_count": 4,
   "id": "6d7cb646",
   "metadata": {},
   "outputs": [],
   "source": [
    "display('test',img)"
   ]
  },
  {
   "cell_type": "code",
   "execution_count": 5,
   "id": "79e7fd07",
   "metadata": {},
   "outputs": [
    {
     "data": {
      "text/plain": [
       "array([[ 1.,  0., 50.],\n",
       "       [ 0.,  1., 70.]], dtype=float32)"
      ]
     },
     "execution_count": 5,
     "metadata": {},
     "output_type": "execute_result"
    }
   ],
   "source": [
    "tx = 50\n",
    "ty = 70\n",
    "\n",
    "# matrix M\n",
    "M = np.float32([[1,0,tx],\n",
    "              [0,1,ty]])\n",
    "M"
   ]
  },
  {
   "cell_type": "code",
   "execution_count": 6,
   "id": "6989f4d1",
   "metadata": {},
   "outputs": [],
   "source": [
    "shifter_img = cv2.warpAffine(img,M,(img.shape[1],img.shape[0]))"
   ]
  },
  {
   "cell_type": "code",
   "execution_count": 7,
   "id": "e0d565fa",
   "metadata": {},
   "outputs": [],
   "source": [
    "display('shifter_img', shifter_img)"
   ]
  },
  {
   "cell_type": "markdown",
   "id": "5ca3aa76",
   "metadata": {},
   "source": [
    "# Rotation "
   ]
  },
  {
   "cell_type": "code",
   "execution_count": 8,
   "id": "1400a59b",
   "metadata": {},
   "outputs": [],
   "source": [
    "display('img', img)"
   ]
  },
  {
   "cell_type": "code",
   "execution_count": 9,
   "id": "44cc026a",
   "metadata": {},
   "outputs": [
    {
     "data": {
      "text/plain": [
       "array([[  0.70710678,   0.70710678,   4.87449557],\n",
       "       [ -0.70710678,   0.70710678, 399.76807333]])"
      ]
     },
     "execution_count": 9,
     "metadata": {},
     "output_type": "execute_result"
    }
   ],
   "source": [
    "center = (img.shape[1]//2,img.shape[0]//2)\n",
    "M = cv2.getRotationMatrix2D(center,45,1)\n",
    "M"
   ]
  },
  {
   "cell_type": "code",
   "execution_count": 10,
   "id": "139f49cf",
   "metadata": {},
   "outputs": [],
   "source": [
    "rotate_45 = cv2.warpAffine(img,M,(img.shape[1],img.shape[0]))"
   ]
  },
  {
   "cell_type": "code",
   "execution_count": 11,
   "id": "471c7ca2",
   "metadata": {},
   "outputs": [],
   "source": [
    "display('img_45',rotate_45)"
   ]
  },
  {
   "cell_type": "markdown",
   "id": "0ea68fbd",
   "metadata": {},
   "source": [
    "# Resize"
   ]
  },
  {
   "cell_type": "code",
   "execution_count": 16,
   "id": "d53a3f3c",
   "metadata": {},
   "outputs": [],
   "source": [
    "# syntax img_resize = cv2.resize(img,dsize)\n",
    "\n",
    "img = cv2.imread('img/test.jpg')\n",
    "img_resize = cv2.resize(img,(300,300), interpolation=cv2.INTER_CUBIC)\n",
    "\n",
    "cv2.imshow('origin', img)\n",
    "cv2.imshow('resize', img_resize)\n",
    "cv2.waitKey(0)\n",
    "cv2.destroyAllWindows()"
   ]
  },
  {
   "cell_type": "markdown",
   "id": "bb0163f0",
   "metadata": {},
   "source": [
    "# Flip lật hình"
   ]
  },
  {
   "cell_type": "code",
   "execution_count": null,
   "id": "212a4427",
   "metadata": {},
   "outputs": [],
   "source": [
    "# syntax flip = cv2.flip(img, flip_code) 1 0 -1\n",
    "img = cv2.imread('img/test.jpg')\n",
    "img0 = cv2.flip(img,1)\n",
    "img1 = cv2.flip(img,0)\n",
    "img2 = cv2.flip(img,-1)\n",
    "\n",
    "cv2.imshow('origin', img)\n",
    "cv2.imshow('img0', img0)\n",
    "cv2.imshow('img1', img1)\n",
    "cv2.imshow('img-1', img2)\n",
    "cv2.waitKey(0)\n",
    "cv2.destroyAllWindows()"
   ]
  },
  {
   "cell_type": "markdown",
   "id": "94266678",
   "metadata": {},
   "source": [
    "# crop cắt ảnh"
   ]
  },
  {
   "cell_type": "code",
   "execution_count": 20,
   "id": "3fb1efd0",
   "metadata": {},
   "outputs": [],
   "source": [
    "# giống slice \n",
    "crop = img[100:400,100:200]\n",
    "cv2.imshow('origin', img)\n",
    "cv2.imshow('crop', crop)\n",
    "cv2.waitKey(0)\n",
    "cv2.destroyAllWindows()"
   ]
  }
 ],
 "metadata": {
  "kernelspec": {
   "display_name": "Python 3 (ipykernel)",
   "language": "python",
   "name": "python3"
  },
  "language_info": {
   "codemirror_mode": {
    "name": "ipython",
    "version": 3
   },
   "file_extension": ".py",
   "mimetype": "text/x-python",
   "name": "python",
   "nbconvert_exporter": "python",
   "pygments_lexer": "ipython3",
   "version": "3.10.9"
  }
 },
 "nbformat": 4,
 "nbformat_minor": 5
}
